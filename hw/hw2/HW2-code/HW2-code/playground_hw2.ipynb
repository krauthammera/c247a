{
 "cells": [
  {
   "cell_type": "code",
   "execution_count": 1,
   "metadata": {},
   "outputs": [],
   "source": [
    "import numpy as np # for doing most of our calculations\n",
    "import matplotlib.pyplot as plt# for plotting\n",
    "from cs231n.data_utils import load_CIFAR10 # function to load the CIFAR-10 dataset.\n",
    "\n",
    "# Load matplotlib images inline\n",
    "%matplotlib inline\n",
    "\n",
    "# These are important for reloading any code you write in external .py files.\n",
    "# see http://stackoverflow.com/questions/1907993/autoreload-of-modules-in-ipython\n",
    "%load_ext autoreload\n",
    "%autoreload 2"
   ]
  },
  {
   "cell_type": "code",
   "execution_count": 2,
   "metadata": {},
   "outputs": [
    {
     "name": "stdout",
     "output_type": "stream",
     "text": [
      "Training data shape:  (50000, 32, 32, 3)\n",
      "Training labels shape:  (50000,)\n",
      "Test data shape:  (10000, 32, 32, 3)\n",
      "Test labels shape:  (10000,)\n"
     ]
    }
   ],
   "source": [
    "# Set the path to the CIFAR-10 data\n",
    "cifar10_dir = '/home/alon/school/c247a/datasets/cifar-10-batches-py' # You need to update this line\n",
    "X_train, y_train, X_test, y_test = load_CIFAR10(cifar10_dir)\n",
    "\n",
    "# As a sanity check, we print out the size of the training and test data.\n",
    "print('Training data shape: ', X_train.shape)\n",
    "print('Training labels shape: ', y_train.shape)\n",
    "print('Test data shape: ', X_test.shape)\n",
    "print('Test labels shape: ', y_test.shape)"
   ]
  },
  {
   "cell_type": "code",
   "execution_count": 3,
   "metadata": {},
   "outputs": [],
   "source": [
    "from nndl import KNN"
   ]
  },
  {
   "cell_type": "code",
   "execution_count": 4,
   "metadata": {},
   "outputs": [
    {
     "name": "stdout",
     "output_type": "stream",
     "text": [
      "[[94.91525424  0.          2.81509917 88.42652796]\n",
      " [ 2.03389831 43.51464435 33.26935381 10.40312094]\n",
      " [ 3.05084746 56.48535565 63.91554702  1.17035111]]\n"
     ]
    }
   ],
   "source": [
    "A = np.array([[56.0, 0.0, 4.4, 68.0],\n",
    "             [1.2, 104.0, 52.0, 8.0],\n",
    "             [1.8, 135.0, 99.9, 0.9]])\n",
    "\n",
    "cal = A.sum(axis=0)\n",
    "\n",
    "perc = 100*A/cal\n",
    "\n",
    "print(perc)"
   ]
  },
  {
   "cell_type": "code",
   "execution_count": 8,
   "metadata": {},
   "outputs": [
    {
     "name": "stdout",
     "output_type": "stream",
     "text": [
      "(3, 1, 4)\n",
      "(1, 3, 4)\n",
      "(3, 3)\n"
     ]
    }
   ],
   "source": [
    "B = np.rot90(A[:,:,None],1,(1,2))\n",
    "C = np.rot90(B,1,(0,1))\n",
    "print(B.shape)\n",
    "print(C.shape)\n",
    "print(np.sqrt(np.sum((B-C)**2, axis=2)).shape)"
   ]
  },
  {
   "cell_type": "code",
   "execution_count": 9,
   "metadata": {},
   "outputs": [
    {
     "name": "stdout",
     "output_type": "stream",
     "text": [
      "(5000, 3072) (500, 3072)\n"
     ]
    }
   ],
   "source": [
    "# Subsample the data for more efficient code execution in this exercise\n",
    "num_training = 5000\n",
    "mask = list(range(num_training))\n",
    "X_train = X_train[mask]\n",
    "y_train = y_train[mask]\n",
    "\n",
    "num_test = 500\n",
    "mask = list(range(num_test))\n",
    "X_test = X_test[mask]\n",
    "y_test = y_test[mask]\n",
    "\n",
    "# Reshape the image data into rows\n",
    "X_train = np.reshape(X_train, (X_train.shape[0], -1))\n",
    "X_test = np.reshape(X_test, (X_test.shape[0], -1))\n",
    "print(X_train.shape, X_test.shape)"
   ]
  },
  {
   "cell_type": "code",
   "execution_count": 14,
   "metadata": {},
   "outputs": [
    {
     "name": "stdout",
     "output_type": "stream",
     "text": [
      "(5000, 1, 3072)\n",
      "(1, 500, 3072)\n"
     ]
    },
    {
     "ename": "MemoryError",
     "evalue": "Unable to allocate 57.2 GiB for an array with shape (5000, 500, 3072) and data type float64",
     "output_type": "error",
     "traceback": [
      "\u001b[0;31m---------------------------------------------------------------------------\u001b[0m",
      "\u001b[0;31mMemoryError\u001b[0m                               Traceback (most recent call last)",
      "\u001b[0;32m<ipython-input-14-67336fcd18f9>\u001b[0m in \u001b[0;36m<module>\u001b[0;34m\u001b[0m\n\u001b[1;32m      4\u001b[0m \u001b[0mprint\u001b[0m\u001b[0;34m(\u001b[0m\u001b[0mX_test_rot\u001b[0m\u001b[0;34m.\u001b[0m\u001b[0mshape\u001b[0m\u001b[0;34m)\u001b[0m\u001b[0;34m\u001b[0m\u001b[0;34m\u001b[0m\u001b[0m\n\u001b[1;32m      5\u001b[0m \u001b[0;34m\u001b[0m\u001b[0m\n\u001b[0;32m----> 6\u001b[0;31m \u001b[0mprint\u001b[0m\u001b[0;34m(\u001b[0m\u001b[0;34m(\u001b[0m\u001b[0mnp\u001b[0m\u001b[0;34m.\u001b[0m\u001b[0msubtract\u001b[0m\u001b[0;34m(\u001b[0m\u001b[0mX_train_rot\u001b[0m\u001b[0;34m,\u001b[0m\u001b[0mX_test_rot\u001b[0m\u001b[0;34m)\u001b[0m\u001b[0;34m**\u001b[0m\u001b[0;36m2\u001b[0m\u001b[0;34m)\u001b[0m\u001b[0;34m.\u001b[0m\u001b[0mshape\u001b[0m\u001b[0;34m)\u001b[0m\u001b[0;34m\u001b[0m\u001b[0;34m\u001b[0m\u001b[0m\n\u001b[0m\u001b[1;32m      7\u001b[0m \u001b[0;34m\u001b[0m\u001b[0m\n\u001b[1;32m      8\u001b[0m \u001b[0;31m#print(np.sqrt(np.sum(np.subtract(X_train_rot,X_test_rot)**2, axis=2)).shape)\u001b[0m\u001b[0;34m\u001b[0m\u001b[0;34m\u001b[0m\u001b[0;34m\u001b[0m\u001b[0m\n",
      "\u001b[0;31mMemoryError\u001b[0m: Unable to allocate 57.2 GiB for an array with shape (5000, 500, 3072) and data type float64"
     ]
    }
   ],
   "source": [
    "X_train_rot = np.rot90(X_train[:,:,None],1,(1,2))\n",
    "X_test_rot = np.rot90(np.rot90(X_test[:,:,None],1,(1,2)),1,(0,1))\n",
    "print(X_train_rot.shape)\n",
    "print(X_test_rot.shape)\n",
    "\n",
    "print((np.subtract(X_train_rot,X_test_rot)**2).shape)\n",
    "\n",
    "#print(np.sqrt(np.sum(np.subtract(X_train_rot,X_test_rot)**2, axis=2)).shape)"
   ]
  },
  {
   "cell_type": "code",
   "execution_count": 17,
   "metadata": {},
   "outputs": [
    {
     "ename": "SyntaxError",
     "evalue": "invalid syntax (<ipython-input-17-f7c9cceb3499>, line 1)",
     "output_type": "error",
     "traceback": [
      "\u001b[0;36m  File \u001b[0;32m\"<ipython-input-17-f7c9cceb3499>\"\u001b[0;36m, line \u001b[0;32m1\u001b[0m\n\u001b[0;31m    d = np.sqrt(np.sum(np.subtract(X_test[:,None,:]X_train[None,:,:])**2,axis=-1))\u001b[0m\n\u001b[0m                                                   ^\u001b[0m\n\u001b[0;31mSyntaxError\u001b[0m\u001b[0;31m:\u001b[0m invalid syntax\n"
     ]
    }
   ],
   "source": [
    "dists = np.sqrt(np.sum(np.subtract(X_test[:,None,:],X_train[None,:,:])**2,axis=-1))"
   ]
  },
  {
   "cell_type": "code",
   "execution_count": 40,
   "metadata": {},
   "outputs": [
    {
     "name": "stdout",
     "output_type": "stream",
     "text": [
      "(500,)\n",
      "(5000,)\n",
      "(500, 5000)\n",
      "(500, 5000)\n"
     ]
    }
   ],
   "source": [
    "#we want dists[i,j] to be (x_i-y_j)^T(x_i-y_j)\n",
    "#You can expand this out into the addition of three separate terms.\n",
    "#Each term can be calculated separately in isolation, and recombined at the end.\n",
    "\n",
    "print((np.sum(X_test**2, axis=1)).shape)\n",
    "print((np.sum(X_train**2, axis=1)).shape)\n",
    "print(X_test.dot(X_train.T).shape)\n",
    "\n",
    "test_term = np.sum(X_test**2, axis=1).reshape(500,1)\n",
    "train_term = np.sum(X_train**2, axis=1)\n",
    "both_term = 2*X_test.dot(X_train.T)\n",
    "\n",
    "print((test_term+train_term-both_term).shape)\n",
    "\n",
    "#result = np.sqrt(train_term - both_term)"
   ]
  },
  {
   "cell_type": "code",
   "execution_count": 42,
   "metadata": {},
   "outputs": [
    {
     "name": "stdout",
     "output_type": "stream",
     "text": [
      "[[  0.    4.4  56.   68. ]\n",
      " [  1.2   8.   52.  104. ]\n",
      " [  0.9   1.8  99.9 135. ]]\n"
     ]
    }
   ],
   "source": [
    "A = np.array([[56.0, 0.0, 4.4, 68.0],\n",
    "             [1.2, 104.0, 52.0, 8.0],\n",
    "             [1.8, 135.0, 99.9, 0.9]])\n",
    "\n",
    "A_sorted = np.sort(A, axis=1)\n",
    "print(A_sorted)"
   ]
  }
 ],
 "metadata": {
  "kernelspec": {
   "display_name": "Python 3",
   "language": "python",
   "name": "python3"
  },
  "language_info": {
   "codemirror_mode": {
    "name": "ipython",
    "version": 3
   },
   "file_extension": ".py",
   "mimetype": "text/x-python",
   "name": "python",
   "nbconvert_exporter": "python",
   "pygments_lexer": "ipython3",
   "version": "3.8.1"
  }
 },
 "nbformat": 4,
 "nbformat_minor": 4
}
